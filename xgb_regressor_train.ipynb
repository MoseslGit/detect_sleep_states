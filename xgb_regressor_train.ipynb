{
 "cells": [
  {
   "cell_type": "code",
   "execution_count": null,
   "metadata": {},
   "outputs": [],
   "source": [
    "import xgboost as xgb\n",
    "from sklearn.metrics import mean_squared_error\n",
    "from sklearn.model_selection import train_test_split\n",
    "\n"
   ]
  },
  {
   "cell_type": "code",
   "execution_count": null,
   "metadata": {},
   "outputs": [],
   "source": [
    "def create_lag_features(df, lag_features, lags):\n",
    "    for lag in lags:\n",
    "        for feature in lag_features:\n",
    "            df[f\"{feature}_lag{lag}\"] = df.groupby('series_id')[feature].shift(lag)\n",
    "    return df.dropna()\n",
    "\n",
    "lag_features = [\"anglez\", \"enmo\"]\n",
    "lags = [1, 2, 3]\n",
    "\n",
    "df = create_lag_features(df, lag_features, lags)\n",
    "\n",
    "features = [f\"{feature}_lag{lag}\" for feature in lag_features for lag in lags]\n",
    "\n",
    "\n"
   ]
  },
  {
   "cell_type": "code",
   "execution_count": null,
   "metadata": {},
   "outputs": [],
   "source": [
    "def train_test_split_time_series(df):\n",
    "    train_dfs = []\n",
    "    test_dfs = []\n",
    "    for _, group in df.groupby('series_id'):\n",
    "        train_size = int(len(group) * 0.8)\n",
    "        train_dfs.append(group.iloc[:train_size])\n",
    "        test_dfs.append(group.iloc[train_size:])\n",
    "    return pd.concat(train_dfs), pd.concat(test_dfs)\n",
    "\n",
    "train_df, test_df = train_test_split_time_series(df)\n",
    "\n"
   ]
  },
  {
   "cell_type": "code",
   "execution_count": null,
   "metadata": {},
   "outputs": [],
   "source": [
    "xgb_regressor = xgb.XGBRegressor(objective ='reg:squarederror')\n",
    "X_train = train_df[features]\n",
    "y_train = train_df[\"anglez\"]\n",
    "xgb_regressor.fit(X_train, y_train)\n"
   ]
  }
 ],
 "metadata": {
  "language_info": {
   "name": "python"
  }
 },
 "nbformat": 4,
 "nbformat_minor": 2
}
